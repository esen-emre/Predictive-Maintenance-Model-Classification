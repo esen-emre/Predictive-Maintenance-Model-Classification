{
 "cells": [
  {
   "cell_type": "markdown",
   "id": "4ba02976",
   "metadata": {},
   "source": [
    "#### Import Libraries"
   ]
  },
  {
   "cell_type": "code",
   "execution_count": 1,
   "id": "904494fd",
   "metadata": {},
   "outputs": [],
   "source": [
    "import numpy as np\n",
    "import pandas as pd\n",
    "import seaborn as sns\n",
    "import matplotlib.pyplot as plt\n",
    "%matplotlib inline\n",
    "import warnings\n",
    "\n",
    "warnings.filterwarnings(\"ignore\")"
   ]
  },
  {
   "cell_type": "markdown",
   "id": "b3020b1a",
   "metadata": {},
   "source": [
    "#### Import Data"
   ]
  },
  {
   "cell_type": "code",
   "execution_count": 2,
   "id": "8a7963d4",
   "metadata": {},
   "outputs": [],
   "source": [
    "df = pd.read_csv('failure.csv')"
   ]
  },
  {
   "cell_type": "markdown",
   "id": "f1e54f91",
   "metadata": {},
   "source": [
    "#### EDA - Exploratory Data Analysis"
   ]
  },
  {
   "cell_type": "code",
   "execution_count": 3,
   "id": "d698cb23",
   "metadata": {},
   "outputs": [
    {
     "data": {
      "text/plain": [
       "(124494, 12)"
      ]
     },
     "execution_count": 3,
     "metadata": {},
     "output_type": "execute_result"
    }
   ],
   "source": [
    "df.shape"
   ]
  },
  {
   "cell_type": "code",
   "execution_count": 4,
   "id": "93286fdb",
   "metadata": {},
   "outputs": [
    {
     "name": "stdout",
     "output_type": "stream",
     "text": [
      "<class 'pandas.core.frame.DataFrame'>\n",
      "RangeIndex: 124494 entries, 0 to 124493\n",
      "Data columns (total 12 columns):\n",
      " #   Column      Non-Null Count   Dtype \n",
      "---  ------      --------------   ----- \n",
      " 0   date        124494 non-null  object\n",
      " 1   device      124494 non-null  object\n",
      " 2   failure     124494 non-null  int64 \n",
      " 3   attribute1  124494 non-null  int64 \n",
      " 4   attribute2  124494 non-null  int64 \n",
      " 5   attribute3  124494 non-null  int64 \n",
      " 6   attribute4  124494 non-null  int64 \n",
      " 7   attribute5  124494 non-null  int64 \n",
      " 8   attribute6  124494 non-null  int64 \n",
      " 9   attribute7  124494 non-null  int64 \n",
      " 10  attribute8  124494 non-null  int64 \n",
      " 11  attribute9  124494 non-null  int64 \n",
      "dtypes: int64(10), object(2)\n",
      "memory usage: 11.4+ MB\n"
     ]
    }
   ],
   "source": [
    "df.info()"
   ]
  },
  {
   "cell_type": "code",
   "execution_count": 5,
   "id": "7b7e8e29",
   "metadata": {},
   "outputs": [
    {
     "data": {
      "text/html": [
       "<div>\n",
       "<style scoped>\n",
       "    .dataframe tbody tr th:only-of-type {\n",
       "        vertical-align: middle;\n",
       "    }\n",
       "\n",
       "    .dataframe tbody tr th {\n",
       "        vertical-align: top;\n",
       "    }\n",
       "\n",
       "    .dataframe thead th {\n",
       "        text-align: right;\n",
       "    }\n",
       "</style>\n",
       "<table border=\"1\" class=\"dataframe\">\n",
       "  <thead>\n",
       "    <tr style=\"text-align: right;\">\n",
       "      <th></th>\n",
       "      <th>date</th>\n",
       "      <th>device</th>\n",
       "      <th>failure</th>\n",
       "      <th>attribute1</th>\n",
       "      <th>attribute2</th>\n",
       "      <th>attribute3</th>\n",
       "      <th>attribute4</th>\n",
       "      <th>attribute5</th>\n",
       "      <th>attribute6</th>\n",
       "      <th>attribute7</th>\n",
       "      <th>attribute8</th>\n",
       "      <th>attribute9</th>\n",
       "    </tr>\n",
       "  </thead>\n",
       "  <tbody>\n",
       "    <tr>\n",
       "      <th>0</th>\n",
       "      <td>2015-01-01</td>\n",
       "      <td>S1F01085</td>\n",
       "      <td>0</td>\n",
       "      <td>215630672</td>\n",
       "      <td>56</td>\n",
       "      <td>0</td>\n",
       "      <td>52</td>\n",
       "      <td>6</td>\n",
       "      <td>407438</td>\n",
       "      <td>0</td>\n",
       "      <td>0</td>\n",
       "      <td>7</td>\n",
       "    </tr>\n",
       "    <tr>\n",
       "      <th>1</th>\n",
       "      <td>2015-01-01</td>\n",
       "      <td>S1F0166B</td>\n",
       "      <td>0</td>\n",
       "      <td>61370680</td>\n",
       "      <td>0</td>\n",
       "      <td>3</td>\n",
       "      <td>0</td>\n",
       "      <td>6</td>\n",
       "      <td>403174</td>\n",
       "      <td>0</td>\n",
       "      <td>0</td>\n",
       "      <td>0</td>\n",
       "    </tr>\n",
       "    <tr>\n",
       "      <th>2</th>\n",
       "      <td>2015-01-01</td>\n",
       "      <td>S1F01E6Y</td>\n",
       "      <td>0</td>\n",
       "      <td>173295968</td>\n",
       "      <td>0</td>\n",
       "      <td>0</td>\n",
       "      <td>0</td>\n",
       "      <td>12</td>\n",
       "      <td>237394</td>\n",
       "      <td>0</td>\n",
       "      <td>0</td>\n",
       "      <td>0</td>\n",
       "    </tr>\n",
       "    <tr>\n",
       "      <th>3</th>\n",
       "      <td>2015-01-01</td>\n",
       "      <td>S1F01JE0</td>\n",
       "      <td>0</td>\n",
       "      <td>79694024</td>\n",
       "      <td>0</td>\n",
       "      <td>0</td>\n",
       "      <td>0</td>\n",
       "      <td>6</td>\n",
       "      <td>410186</td>\n",
       "      <td>0</td>\n",
       "      <td>0</td>\n",
       "      <td>0</td>\n",
       "    </tr>\n",
       "    <tr>\n",
       "      <th>4</th>\n",
       "      <td>2015-01-01</td>\n",
       "      <td>S1F01R2B</td>\n",
       "      <td>0</td>\n",
       "      <td>135970480</td>\n",
       "      <td>0</td>\n",
       "      <td>0</td>\n",
       "      <td>0</td>\n",
       "      <td>15</td>\n",
       "      <td>313173</td>\n",
       "      <td>0</td>\n",
       "      <td>0</td>\n",
       "      <td>3</td>\n",
       "    </tr>\n",
       "  </tbody>\n",
       "</table>\n",
       "</div>"
      ],
      "text/plain": [
       "         date    device  failure  attribute1  attribute2  attribute3  \\\n",
       "0  2015-01-01  S1F01085        0   215630672          56           0   \n",
       "1  2015-01-01  S1F0166B        0    61370680           0           3   \n",
       "2  2015-01-01  S1F01E6Y        0   173295968           0           0   \n",
       "3  2015-01-01  S1F01JE0        0    79694024           0           0   \n",
       "4  2015-01-01  S1F01R2B        0   135970480           0           0   \n",
       "\n",
       "   attribute4  attribute5  attribute6  attribute7  attribute8  attribute9  \n",
       "0          52           6      407438           0           0           7  \n",
       "1           0           6      403174           0           0           0  \n",
       "2           0          12      237394           0           0           0  \n",
       "3           0           6      410186           0           0           0  \n",
       "4           0          15      313173           0           0           3  "
      ]
     },
     "execution_count": 5,
     "metadata": {},
     "output_type": "execute_result"
    }
   ],
   "source": [
    "df.head()"
   ]
  },
  {
   "cell_type": "code",
   "execution_count": 6,
   "id": "354cd54b",
   "metadata": {},
   "outputs": [
    {
     "data": {
      "text/html": [
       "<div>\n",
       "<style scoped>\n",
       "    .dataframe tbody tr th:only-of-type {\n",
       "        vertical-align: middle;\n",
       "    }\n",
       "\n",
       "    .dataframe tbody tr th {\n",
       "        vertical-align: top;\n",
       "    }\n",
       "\n",
       "    .dataframe thead th {\n",
       "        text-align: right;\n",
       "    }\n",
       "</style>\n",
       "<table border=\"1\" class=\"dataframe\">\n",
       "  <thead>\n",
       "    <tr style=\"text-align: right;\">\n",
       "      <th></th>\n",
       "      <th>failure</th>\n",
       "      <th>attribute1</th>\n",
       "      <th>attribute2</th>\n",
       "      <th>attribute3</th>\n",
       "      <th>attribute4</th>\n",
       "      <th>attribute5</th>\n",
       "      <th>attribute6</th>\n",
       "      <th>attribute7</th>\n",
       "      <th>attribute8</th>\n",
       "      <th>attribute9</th>\n",
       "    </tr>\n",
       "  </thead>\n",
       "  <tbody>\n",
       "    <tr>\n",
       "      <th>count</th>\n",
       "      <td>124494.000000</td>\n",
       "      <td>1.244940e+05</td>\n",
       "      <td>124494.000000</td>\n",
       "      <td>124494.000000</td>\n",
       "      <td>124494.000000</td>\n",
       "      <td>124494.000000</td>\n",
       "      <td>124494.000000</td>\n",
       "      <td>124494.000000</td>\n",
       "      <td>124494.000000</td>\n",
       "      <td>124494.000000</td>\n",
       "    </tr>\n",
       "    <tr>\n",
       "      <th>mean</th>\n",
       "      <td>0.000851</td>\n",
       "      <td>1.223868e+08</td>\n",
       "      <td>159.484762</td>\n",
       "      <td>9.940455</td>\n",
       "      <td>1.741120</td>\n",
       "      <td>14.222693</td>\n",
       "      <td>260172.858025</td>\n",
       "      <td>0.292528</td>\n",
       "      <td>0.292528</td>\n",
       "      <td>12.451524</td>\n",
       "    </tr>\n",
       "    <tr>\n",
       "      <th>std</th>\n",
       "      <td>0.029167</td>\n",
       "      <td>7.045960e+07</td>\n",
       "      <td>2179.657730</td>\n",
       "      <td>185.747321</td>\n",
       "      <td>22.908507</td>\n",
       "      <td>15.943021</td>\n",
       "      <td>99151.009852</td>\n",
       "      <td>7.436924</td>\n",
       "      <td>7.436924</td>\n",
       "      <td>191.425623</td>\n",
       "    </tr>\n",
       "    <tr>\n",
       "      <th>min</th>\n",
       "      <td>0.000000</td>\n",
       "      <td>0.000000e+00</td>\n",
       "      <td>0.000000</td>\n",
       "      <td>0.000000</td>\n",
       "      <td>0.000000</td>\n",
       "      <td>1.000000</td>\n",
       "      <td>8.000000</td>\n",
       "      <td>0.000000</td>\n",
       "      <td>0.000000</td>\n",
       "      <td>0.000000</td>\n",
       "    </tr>\n",
       "    <tr>\n",
       "      <th>25%</th>\n",
       "      <td>0.000000</td>\n",
       "      <td>6.127675e+07</td>\n",
       "      <td>0.000000</td>\n",
       "      <td>0.000000</td>\n",
       "      <td>0.000000</td>\n",
       "      <td>8.000000</td>\n",
       "      <td>221452.000000</td>\n",
       "      <td>0.000000</td>\n",
       "      <td>0.000000</td>\n",
       "      <td>0.000000</td>\n",
       "    </tr>\n",
       "    <tr>\n",
       "      <th>50%</th>\n",
       "      <td>0.000000</td>\n",
       "      <td>1.227957e+08</td>\n",
       "      <td>0.000000</td>\n",
       "      <td>0.000000</td>\n",
       "      <td>0.000000</td>\n",
       "      <td>10.000000</td>\n",
       "      <td>249799.500000</td>\n",
       "      <td>0.000000</td>\n",
       "      <td>0.000000</td>\n",
       "      <td>0.000000</td>\n",
       "    </tr>\n",
       "    <tr>\n",
       "      <th>75%</th>\n",
       "      <td>0.000000</td>\n",
       "      <td>1.833084e+08</td>\n",
       "      <td>0.000000</td>\n",
       "      <td>0.000000</td>\n",
       "      <td>0.000000</td>\n",
       "      <td>12.000000</td>\n",
       "      <td>310266.000000</td>\n",
       "      <td>0.000000</td>\n",
       "      <td>0.000000</td>\n",
       "      <td>0.000000</td>\n",
       "    </tr>\n",
       "    <tr>\n",
       "      <th>max</th>\n",
       "      <td>1.000000</td>\n",
       "      <td>2.441405e+08</td>\n",
       "      <td>64968.000000</td>\n",
       "      <td>24929.000000</td>\n",
       "      <td>1666.000000</td>\n",
       "      <td>98.000000</td>\n",
       "      <td>689161.000000</td>\n",
       "      <td>832.000000</td>\n",
       "      <td>832.000000</td>\n",
       "      <td>18701.000000</td>\n",
       "    </tr>\n",
       "  </tbody>\n",
       "</table>\n",
       "</div>"
      ],
      "text/plain": [
       "             failure    attribute1     attribute2     attribute3  \\\n",
       "count  124494.000000  1.244940e+05  124494.000000  124494.000000   \n",
       "mean        0.000851  1.223868e+08     159.484762       9.940455   \n",
       "std         0.029167  7.045960e+07    2179.657730     185.747321   \n",
       "min         0.000000  0.000000e+00       0.000000       0.000000   \n",
       "25%         0.000000  6.127675e+07       0.000000       0.000000   \n",
       "50%         0.000000  1.227957e+08       0.000000       0.000000   \n",
       "75%         0.000000  1.833084e+08       0.000000       0.000000   \n",
       "max         1.000000  2.441405e+08   64968.000000   24929.000000   \n",
       "\n",
       "          attribute4     attribute5     attribute6     attribute7  \\\n",
       "count  124494.000000  124494.000000  124494.000000  124494.000000   \n",
       "mean        1.741120      14.222693  260172.858025       0.292528   \n",
       "std        22.908507      15.943021   99151.009852       7.436924   \n",
       "min         0.000000       1.000000       8.000000       0.000000   \n",
       "25%         0.000000       8.000000  221452.000000       0.000000   \n",
       "50%         0.000000      10.000000  249799.500000       0.000000   \n",
       "75%         0.000000      12.000000  310266.000000       0.000000   \n",
       "max      1666.000000      98.000000  689161.000000     832.000000   \n",
       "\n",
       "          attribute8     attribute9  \n",
       "count  124494.000000  124494.000000  \n",
       "mean        0.292528      12.451524  \n",
       "std         7.436924     191.425623  \n",
       "min         0.000000       0.000000  \n",
       "25%         0.000000       0.000000  \n",
       "50%         0.000000       0.000000  \n",
       "75%         0.000000       0.000000  \n",
       "max       832.000000   18701.000000  "
      ]
     },
     "execution_count": 6,
     "metadata": {},
     "output_type": "execute_result"
    }
   ],
   "source": [
    "df.describe()"
   ]
  },
  {
   "cell_type": "code",
   "execution_count": 7,
   "id": "2b144610",
   "metadata": {},
   "outputs": [
    {
     "data": {
      "text/plain": [
       "array([0, 1])"
      ]
     },
     "execution_count": 7,
     "metadata": {},
     "output_type": "execute_result"
    }
   ],
   "source": [
    "df.failure.unique()"
   ]
  },
  {
   "cell_type": "markdown",
   "id": "6fb51379",
   "metadata": {},
   "source": [
    "Description of column failure: 0 for non-failure and 1 for failure"
   ]
  },
  {
   "cell_type": "code",
   "execution_count": 8,
   "id": "279ec6ad",
   "metadata": {},
   "outputs": [
    {
     "data": {
      "text/plain": [
       "0    124388\n",
       "1       106\n",
       "Name: failure, dtype: int64"
      ]
     },
     "execution_count": 8,
     "metadata": {},
     "output_type": "execute_result"
    }
   ],
   "source": [
    "df.failure.value_counts()"
   ]
  },
  {
   "cell_type": "markdown",
   "id": "39e49621",
   "metadata": {},
   "source": [
    "#### Feature Engineering"
   ]
  },
  {
   "cell_type": "code",
   "execution_count": 9,
   "id": "9ce6e647",
   "metadata": {},
   "outputs": [],
   "source": [
    "df['Date']  = pd.to_datetime(df['date'])"
   ]
  },
  {
   "cell_type": "code",
   "execution_count": 10,
   "id": "82bd92d3",
   "metadata": {},
   "outputs": [],
   "source": [
    "df[\"year\"]=df[\"Date\"].dt.year\n",
    "df[\"month\"]=df[\"Date\"].dt.month_name()\n",
    "df[\"day\"]=df[\"Date\"].dt.day_name()"
   ]
  },
  {
   "cell_type": "code",
   "execution_count": 11,
   "id": "6acf55e8",
   "metadata": {},
   "outputs": [
    {
     "data": {
      "text/html": [
       "<div>\n",
       "<style scoped>\n",
       "    .dataframe tbody tr th:only-of-type {\n",
       "        vertical-align: middle;\n",
       "    }\n",
       "\n",
       "    .dataframe tbody tr th {\n",
       "        vertical-align: top;\n",
       "    }\n",
       "\n",
       "    .dataframe thead th {\n",
       "        text-align: right;\n",
       "    }\n",
       "</style>\n",
       "<table border=\"1\" class=\"dataframe\">\n",
       "  <thead>\n",
       "    <tr style=\"text-align: right;\">\n",
       "      <th></th>\n",
       "      <th>date</th>\n",
       "      <th>device</th>\n",
       "      <th>failure</th>\n",
       "      <th>attribute1</th>\n",
       "      <th>attribute2</th>\n",
       "      <th>attribute3</th>\n",
       "      <th>attribute4</th>\n",
       "      <th>attribute5</th>\n",
       "      <th>attribute6</th>\n",
       "      <th>attribute7</th>\n",
       "      <th>attribute8</th>\n",
       "      <th>attribute9</th>\n",
       "      <th>Date</th>\n",
       "      <th>year</th>\n",
       "      <th>month</th>\n",
       "      <th>day</th>\n",
       "    </tr>\n",
       "  </thead>\n",
       "  <tbody>\n",
       "    <tr>\n",
       "      <th>0</th>\n",
       "      <td>2015-01-01</td>\n",
       "      <td>S1F01085</td>\n",
       "      <td>0</td>\n",
       "      <td>215630672</td>\n",
       "      <td>56</td>\n",
       "      <td>0</td>\n",
       "      <td>52</td>\n",
       "      <td>6</td>\n",
       "      <td>407438</td>\n",
       "      <td>0</td>\n",
       "      <td>0</td>\n",
       "      <td>7</td>\n",
       "      <td>2015-01-01</td>\n",
       "      <td>2015</td>\n",
       "      <td>January</td>\n",
       "      <td>Thursday</td>\n",
       "    </tr>\n",
       "    <tr>\n",
       "      <th>1</th>\n",
       "      <td>2015-01-01</td>\n",
       "      <td>S1F0166B</td>\n",
       "      <td>0</td>\n",
       "      <td>61370680</td>\n",
       "      <td>0</td>\n",
       "      <td>3</td>\n",
       "      <td>0</td>\n",
       "      <td>6</td>\n",
       "      <td>403174</td>\n",
       "      <td>0</td>\n",
       "      <td>0</td>\n",
       "      <td>0</td>\n",
       "      <td>2015-01-01</td>\n",
       "      <td>2015</td>\n",
       "      <td>January</td>\n",
       "      <td>Thursday</td>\n",
       "    </tr>\n",
       "    <tr>\n",
       "      <th>2</th>\n",
       "      <td>2015-01-01</td>\n",
       "      <td>S1F01E6Y</td>\n",
       "      <td>0</td>\n",
       "      <td>173295968</td>\n",
       "      <td>0</td>\n",
       "      <td>0</td>\n",
       "      <td>0</td>\n",
       "      <td>12</td>\n",
       "      <td>237394</td>\n",
       "      <td>0</td>\n",
       "      <td>0</td>\n",
       "      <td>0</td>\n",
       "      <td>2015-01-01</td>\n",
       "      <td>2015</td>\n",
       "      <td>January</td>\n",
       "      <td>Thursday</td>\n",
       "    </tr>\n",
       "    <tr>\n",
       "      <th>3</th>\n",
       "      <td>2015-01-01</td>\n",
       "      <td>S1F01JE0</td>\n",
       "      <td>0</td>\n",
       "      <td>79694024</td>\n",
       "      <td>0</td>\n",
       "      <td>0</td>\n",
       "      <td>0</td>\n",
       "      <td>6</td>\n",
       "      <td>410186</td>\n",
       "      <td>0</td>\n",
       "      <td>0</td>\n",
       "      <td>0</td>\n",
       "      <td>2015-01-01</td>\n",
       "      <td>2015</td>\n",
       "      <td>January</td>\n",
       "      <td>Thursday</td>\n",
       "    </tr>\n",
       "    <tr>\n",
       "      <th>4</th>\n",
       "      <td>2015-01-01</td>\n",
       "      <td>S1F01R2B</td>\n",
       "      <td>0</td>\n",
       "      <td>135970480</td>\n",
       "      <td>0</td>\n",
       "      <td>0</td>\n",
       "      <td>0</td>\n",
       "      <td>15</td>\n",
       "      <td>313173</td>\n",
       "      <td>0</td>\n",
       "      <td>0</td>\n",
       "      <td>3</td>\n",
       "      <td>2015-01-01</td>\n",
       "      <td>2015</td>\n",
       "      <td>January</td>\n",
       "      <td>Thursday</td>\n",
       "    </tr>\n",
       "  </tbody>\n",
       "</table>\n",
       "</div>"
      ],
      "text/plain": [
       "         date    device  failure  attribute1  attribute2  attribute3  \\\n",
       "0  2015-01-01  S1F01085        0   215630672          56           0   \n",
       "1  2015-01-01  S1F0166B        0    61370680           0           3   \n",
       "2  2015-01-01  S1F01E6Y        0   173295968           0           0   \n",
       "3  2015-01-01  S1F01JE0        0    79694024           0           0   \n",
       "4  2015-01-01  S1F01R2B        0   135970480           0           0   \n",
       "\n",
       "   attribute4  attribute5  attribute6  attribute7  attribute8  attribute9  \\\n",
       "0          52           6      407438           0           0           7   \n",
       "1           0           6      403174           0           0           0   \n",
       "2           0          12      237394           0           0           0   \n",
       "3           0           6      410186           0           0           0   \n",
       "4           0          15      313173           0           0           3   \n",
       "\n",
       "        Date  year    month       day  \n",
       "0 2015-01-01  2015  January  Thursday  \n",
       "1 2015-01-01  2015  January  Thursday  \n",
       "2 2015-01-01  2015  January  Thursday  \n",
       "3 2015-01-01  2015  January  Thursday  \n",
       "4 2015-01-01  2015  January  Thursday  "
      ]
     },
     "execution_count": 11,
     "metadata": {},
     "output_type": "execute_result"
    }
   ],
   "source": [
    "df.head()"
   ]
  },
  {
   "cell_type": "code",
   "execution_count": 12,
   "id": "3159730c",
   "metadata": {},
   "outputs": [],
   "source": [
    "del df['Date']"
   ]
  },
  {
   "cell_type": "code",
   "execution_count": 13,
   "id": "0c5c52bb",
   "metadata": {},
   "outputs": [
    {
     "data": {
      "text/plain": [
       "month      failure\n",
       "April      1              9\n",
       "           0          12003\n",
       "August     1              4\n",
       "           0           8342\n",
       "February   1             14\n",
       "           0          19486\n",
       "January    1             24\n",
       "           0          25008\n",
       "July       1             16\n",
       "           0          10515\n",
       "June       1              6\n",
       "           0          10463\n",
       "March      1              9\n",
       "           0          19824\n",
       "May        1             21\n",
       "           0          11309\n",
       "November   0             31\n",
       "October    1              3\n",
       "           0           2937\n",
       "September  0           4470\n",
       "Name: failure, dtype: int64"
      ]
     },
     "execution_count": 13,
     "metadata": {},
     "output_type": "execute_result"
    }
   ],
   "source": [
    "df.groupby('month')['failure'].value_counts(ascending=True)"
   ]
  },
  {
   "cell_type": "code",
   "execution_count": 14,
   "id": "9eb59486",
   "metadata": {},
   "outputs": [
    {
     "data": {
      "text/plain": [
       "failure       1.000000\n",
       "attribute7    0.119055\n",
       "attribute8    0.119055\n",
       "attribute4    0.067398\n",
       "attribute2    0.052902\n",
       "attribute5    0.002270\n",
       "attribute1    0.001984\n",
       "attribute9    0.001622\n",
       "attribute6   -0.000550\n",
       "attribute3   -0.000948\n",
       "year               NaN\n",
       "Name: failure, dtype: float64"
      ]
     },
     "execution_count": 14,
     "metadata": {},
     "output_type": "execute_result"
    }
   ],
   "source": [
    "df.corr()['failure'].sort_values(ascending=False)"
   ]
  },
  {
   "cell_type": "markdown",
   "id": "687f6822",
   "metadata": {},
   "source": [
    "Check Attribute7 and Attribute8 (seem to be equal)"
   ]
  },
  {
   "cell_type": "code",
   "execution_count": 15,
   "id": "663e129a",
   "metadata": {},
   "outputs": [
    {
     "data": {
      "text/plain": [
       "True"
      ]
     },
     "execution_count": 15,
     "metadata": {},
     "output_type": "execute_result"
    }
   ],
   "source": [
    "df['attribute7'].equals(df['attribute8'])"
   ]
  },
  {
   "cell_type": "code",
   "execution_count": 16,
   "id": "5569e0d3",
   "metadata": {},
   "outputs": [],
   "source": [
    "del df['attribute8']"
   ]
  },
  {
   "cell_type": "code",
   "execution_count": 17,
   "id": "641ef112",
   "metadata": {},
   "outputs": [],
   "source": [
    "df[['attribute3','attribute4','attribute7','attribute9']] = df[['attribute3','attribute4','attribute7','attribute9']].astype('object')"
   ]
  },
  {
   "cell_type": "code",
   "execution_count": 18,
   "id": "4f5317d4",
   "metadata": {},
   "outputs": [
    {
     "name": "stdout",
     "output_type": "stream",
     "text": [
      "<class 'pandas.core.frame.DataFrame'>\n",
      "RangeIndex: 124494 entries, 0 to 124493\n",
      "Data columns (total 14 columns):\n",
      " #   Column      Non-Null Count   Dtype \n",
      "---  ------      --------------   ----- \n",
      " 0   date        124494 non-null  object\n",
      " 1   device      124494 non-null  object\n",
      " 2   failure     124494 non-null  int64 \n",
      " 3   attribute1  124494 non-null  int64 \n",
      " 4   attribute2  124494 non-null  int64 \n",
      " 5   attribute3  124494 non-null  object\n",
      " 6   attribute4  124494 non-null  object\n",
      " 7   attribute5  124494 non-null  int64 \n",
      " 8   attribute6  124494 non-null  int64 \n",
      " 9   attribute7  124494 non-null  object\n",
      " 10  attribute9  124494 non-null  object\n",
      " 11  year        124494 non-null  int64 \n",
      " 12  month       124494 non-null  object\n",
      " 13  day         124494 non-null  object\n",
      "dtypes: int64(6), object(8)\n",
      "memory usage: 13.3+ MB\n"
     ]
    }
   ],
   "source": [
    "df.info()"
   ]
  },
  {
   "cell_type": "code",
   "execution_count": 19,
   "id": "ddb6777d",
   "metadata": {},
   "outputs": [],
   "source": [
    "del df['date']"
   ]
  },
  {
   "cell_type": "code",
   "execution_count": 20,
   "id": "329d05a7",
   "metadata": {},
   "outputs": [
    {
     "data": {
      "text/plain": [
       "0         2015\n",
       "1         2015\n",
       "2         2015\n",
       "3         2015\n",
       "4         2015\n",
       "          ... \n",
       "124489    2015\n",
       "124490    2015\n",
       "124491    2015\n",
       "124492    2015\n",
       "124493    2015\n",
       "Name: year, Length: 124494, dtype: int64"
      ]
     },
     "execution_count": 20,
     "metadata": {},
     "output_type": "execute_result"
    }
   ],
   "source": [
    "df.year"
   ]
  },
  {
   "cell_type": "code",
   "execution_count": 21,
   "id": "6dac3810",
   "metadata": {},
   "outputs": [
    {
     "data": {
      "text/plain": [
       "2015    124494\n",
       "Name: year, dtype: int64"
      ]
     },
     "execution_count": 21,
     "metadata": {},
     "output_type": "execute_result"
    }
   ],
   "source": [
    "df.year.value_counts()"
   ]
  },
  {
   "cell_type": "code",
   "execution_count": 22,
   "id": "7973ee41",
   "metadata": {},
   "outputs": [],
   "source": [
    "del df['year']"
   ]
  },
  {
   "cell_type": "markdown",
   "id": "b433b211",
   "metadata": {},
   "source": [
    "#### Prediciton and selecting the Algorithm"
   ]
  },
  {
   "cell_type": "code",
   "execution_count": 23,
   "id": "bac59927",
   "metadata": {},
   "outputs": [],
   "source": [
    "x=df.drop('failure',axis=1)\n",
    "y=df['failure']"
   ]
  },
  {
   "cell_type": "code",
   "execution_count": 24,
   "id": "1fe1db97",
   "metadata": {},
   "outputs": [],
   "source": [
    "x=pd.get_dummies(x,drop_first=True)"
   ]
  },
  {
   "cell_type": "code",
   "execution_count": 25,
   "id": "7d9fc3b4",
   "metadata": {},
   "outputs": [],
   "source": [
    "from sklearn.naive_bayes import MultinomialNB,GaussianNB,BernoulliNB\n",
    "from sklearn.neighbors import KNeighborsClassifier\n",
    "from sklearn.svm import SVC\n",
    "from sklearn.tree import DecisionTreeClassifier\n",
    "from sklearn.linear_model import LogisticRegression\n",
    "from sklearn.ensemble import GradientBoostingClassifier\n",
    "from sklearn.ensemble import AdaBoostClassifier\n",
    "from xgboost import XGBClassifier\n",
    "from sklearn.ensemble import RandomForestClassifier\n",
    "from sklearn.metrics import classification_report,accuracy_score,confusion_matrix,precision_score,recall_score,f1_score\n",
    "from sklearn.model_selection import train_test_split"
   ]
  },
  {
   "cell_type": "code",
   "execution_count": 41,
   "id": "3cafe598",
   "metadata": {},
   "outputs": [],
   "source": [
    "def classification(x,y):\n",
    "    from sklearn.naive_bayes import GaussianNB\n",
    "    from sklearn.naive_bayes import BernoulliNB\n",
    "    from sklearn.svm import SVC\n",
    "    from sklearn.neighbors import KNeighborsClassifier\n",
    "    from sklearn.tree import DecisionTreeClassifier\n",
    "    from sklearn.ensemble import RandomForestClassifier\n",
    "    from sklearn.linear_model import LogisticRegression\n",
    "    from xgboost import XGBClassifier #yüklemek için !pip install xgboost kullandım\n",
    "    from sklearn.ensemble import GradientBoostingClassifier\n",
    "    \n",
    "    import imblearn\n",
    "    from imblearn.under_sampling import RandomUnderSampler\n",
    "    from imblearn.metrics import geometric_mean_score, make_index_balanced_accuracy, classification_report_imbalanced\n",
    "\n",
    "    from sklearn.metrics import accuracy_score,precision_score,recall_score,f1_score\n",
    "    from sklearn.metrics import confusion_matrix,classification_report\n",
    "              \n",
    "    g=GaussianNB()\n",
    "    b=BernoulliNB()\n",
    "    KN=KNeighborsClassifier()\n",
    "    SVC=SVC() \n",
    "    D=DecisionTreeClassifier()\n",
    "    R=RandomForestClassifier()\n",
    "    Log=LogisticRegression()\n",
    "    XGB=XGBClassifier()\n",
    "    G=GradientBoostingClassifier()\n",
    "      \n",
    "    x_train,x_test,y_train,y_test=train_test_split(x,y,random_state=13)\n",
    "    \n",
    "    \n",
    "    algos=[g,b,KN,SVC,D,R,Log,XGB,G]\n",
    "    algo_names=['GaussianNB','BernoulliNB','KNeighborsClassifier','SVC','DecisionTreeClassifier','RandomForestClassifier','LogisticRegression','XGBClassifier','GradientBoostingClassifier']\n",
    "    \n",
    "    accuracy_scored=[]\n",
    "    precision_scored=[]\n",
    "    recall_scored=[]\n",
    "    f1_scored=[]\n",
    "    \n",
    "    RUS=RandomUnderSampler(random_state=42)\n",
    "    x_RUS,y_RUS=RUS.fit_resample(x_train,y_train)\n",
    "    \n",
    "    for item in algos:\n",
    "\n",
    "        #item.fit(x_RUS,y_RUS)\n",
    "        predict=item.fit(x_RUS,y_RUS).predict(x_test)\n",
    "        \n",
    "        \n",
    "        accuracy_scored.append(accuracy_score(y_test,predict))\n",
    "        precision_scored.append(precision_score(y_test,predict))\n",
    "        recall_scored.append(recall_score(y_test,predict))\n",
    "        f1_scored.append(f1_score(y_test,predict))\n",
    "\n",
    "    result=pd.DataFrame(columns=['accuracy_score','f1_score','recall_score','precision_score'],index=algo_names)\n",
    "    result['accuracy_score']=accuracy_scored\n",
    "    result['f1_score']=f1_scored\n",
    "    result['recall_score']=recall_scored\n",
    "    result['precision_score']=precision_scored\n",
    "    \n",
    "    return result.sort_values('accuracy_score',ascending=False)  "
   ]
  },
  {
   "cell_type": "code",
   "execution_count": 43,
   "id": "ee82536a",
   "metadata": {},
   "outputs": [
    {
     "data": {
      "text/html": [
       "<div>\n",
       "<style scoped>\n",
       "    .dataframe tbody tr th:only-of-type {\n",
       "        vertical-align: middle;\n",
       "    }\n",
       "\n",
       "    .dataframe tbody tr th {\n",
       "        vertical-align: top;\n",
       "    }\n",
       "\n",
       "    .dataframe thead th {\n",
       "        text-align: right;\n",
       "    }\n",
       "</style>\n",
       "<table border=\"1\" class=\"dataframe\">\n",
       "  <thead>\n",
       "    <tr style=\"text-align: right;\">\n",
       "      <th></th>\n",
       "      <th>accuracy_score</th>\n",
       "      <th>f1_score</th>\n",
       "      <th>recall_score</th>\n",
       "      <th>precision_score</th>\n",
       "    </tr>\n",
       "  </thead>\n",
       "  <tbody>\n",
       "    <tr>\n",
       "      <th>GaussianNB</th>\n",
       "      <td>0.990907</td>\n",
       "      <td>0.020761</td>\n",
       "      <td>0.081081</td>\n",
       "      <td>0.011905</td>\n",
       "    </tr>\n",
       "    <tr>\n",
       "      <th>BernoulliNB</th>\n",
       "      <td>0.915885</td>\n",
       "      <td>0.011329</td>\n",
       "      <td>0.405405</td>\n",
       "      <td>0.005745</td>\n",
       "    </tr>\n",
       "    <tr>\n",
       "      <th>RandomForestClassifier</th>\n",
       "      <td>0.901427</td>\n",
       "      <td>0.009684</td>\n",
       "      <td>0.405405</td>\n",
       "      <td>0.004900</td>\n",
       "    </tr>\n",
       "    <tr>\n",
       "      <th>GradientBoostingClassifier</th>\n",
       "      <td>0.883884</td>\n",
       "      <td>0.009320</td>\n",
       "      <td>0.459459</td>\n",
       "      <td>0.004708</td>\n",
       "    </tr>\n",
       "    <tr>\n",
       "      <th>DecisionTreeClassifier</th>\n",
       "      <td>0.806741</td>\n",
       "      <td>0.005621</td>\n",
       "      <td>0.459459</td>\n",
       "      <td>0.002828</td>\n",
       "    </tr>\n",
       "    <tr>\n",
       "      <th>XGBClassifier</th>\n",
       "      <td>0.708681</td>\n",
       "      <td>0.004829</td>\n",
       "      <td>0.594595</td>\n",
       "      <td>0.002425</td>\n",
       "    </tr>\n",
       "    <tr>\n",
       "      <th>SVC</th>\n",
       "      <td>0.645868</td>\n",
       "      <td>0.002895</td>\n",
       "      <td>0.432432</td>\n",
       "      <td>0.001452</td>\n",
       "    </tr>\n",
       "    <tr>\n",
       "      <th>KNeighborsClassifier</th>\n",
       "      <td>0.490265</td>\n",
       "      <td>0.002264</td>\n",
       "      <td>0.486486</td>\n",
       "      <td>0.001135</td>\n",
       "    </tr>\n",
       "    <tr>\n",
       "      <th>LogisticRegression</th>\n",
       "      <td>0.001189</td>\n",
       "      <td>0.002375</td>\n",
       "      <td>1.000000</td>\n",
       "      <td>0.001189</td>\n",
       "    </tr>\n",
       "  </tbody>\n",
       "</table>\n",
       "</div>"
      ],
      "text/plain": [
       "                            accuracy_score  f1_score  recall_score  \\\n",
       "GaussianNB                        0.990907  0.020761      0.081081   \n",
       "BernoulliNB                       0.915885  0.011329      0.405405   \n",
       "RandomForestClassifier            0.901427  0.009684      0.405405   \n",
       "GradientBoostingClassifier        0.883884  0.009320      0.459459   \n",
       "DecisionTreeClassifier            0.806741  0.005621      0.459459   \n",
       "XGBClassifier                     0.708681  0.004829      0.594595   \n",
       "SVC                               0.645868  0.002895      0.432432   \n",
       "KNeighborsClassifier              0.490265  0.002264      0.486486   \n",
       "LogisticRegression                0.001189  0.002375      1.000000   \n",
       "\n",
       "                            precision_score  \n",
       "GaussianNB                         0.011905  \n",
       "BernoulliNB                        0.005745  \n",
       "RandomForestClassifier             0.004900  \n",
       "GradientBoostingClassifier         0.004708  \n",
       "DecisionTreeClassifier             0.002828  \n",
       "XGBClassifier                      0.002425  \n",
       "SVC                                0.001452  \n",
       "KNeighborsClassifier               0.001135  \n",
       "LogisticRegression                 0.001189  "
      ]
     },
     "execution_count": 43,
     "metadata": {},
     "output_type": "execute_result"
    }
   ],
   "source": [
    "classification(x,y)"
   ]
  },
  {
   "cell_type": "markdown",
   "id": "b0628cc5",
   "metadata": {},
   "source": [
    "### Deep Learning"
   ]
  },
  {
   "cell_type": "code",
   "execution_count": 44,
   "id": "f670e475",
   "metadata": {},
   "outputs": [],
   "source": [
    "from tensorflow.keras.models import Sequential\n",
    "from tensorflow.keras.layers import Dense\n",
    "\n",
    "import imblearn\n",
    "from imblearn.under_sampling import RandomUnderSampler\n",
    "from imblearn.metrics import geometric_mean_score, make_index_balanced_accuracy, classification_report_imbalanced"
   ]
  },
  {
   "cell_type": "code",
   "execution_count": 45,
   "id": "1f67eb68",
   "metadata": {},
   "outputs": [],
   "source": [
    "x_train,x_test,y_train,y_test=train_test_split(x,y,random_state=13)\n",
    "\n",
    "RUS=RandomUnderSampler(random_state=42)\n",
    "x_RUS,y_RUS=RUS.fit_resample(x_train,y_train)"
   ]
  },
  {
   "cell_type": "code",
   "execution_count": 46,
   "id": "84612416",
   "metadata": {},
   "outputs": [],
   "source": [
    "model=Sequential()\n",
    "model.add(Dense(500,activation='relu'))\n",
    "model.add(Dense(500,activation='relu'))\n",
    "model.add(Dense(500,activation='relu'))\n",
    "model.add(Dense(500,activation='relu'))\n",
    "model.add(Dense(500,activation='relu'))\n",
    "model.add(Dense(1,activation='sigmoid'))"
   ]
  },
  {
   "cell_type": "code",
   "execution_count": 47,
   "id": "4faa527f",
   "metadata": {},
   "outputs": [
    {
     "name": "stdout",
     "output_type": "stream",
     "text": [
      "Epoch 1/40\n",
      "2/2 [==============================] - 4s 3s/step - loss: 485740.3438 - accuracy: 0.4565 - val_loss: 3306.2830 - val_accuracy: 0.9988\n",
      "Epoch 2/40\n",
      "2/2 [==============================] - 1s 1s/step - loss: 1464691.0000 - accuracy: 0.4710 - val_loss: 557114.8750 - val_accuracy: 0.0018\n",
      "Epoch 3/40\n",
      "2/2 [==============================] - 1s 1s/step - loss: 269979.7500 - accuracy: 0.5290 - val_loss: 3857.5107 - val_accuracy: 0.9988\n",
      "Epoch 4/40\n",
      "2/2 [==============================] - 1s 1s/step - loss: 1569107.5000 - accuracy: 0.5000 - val_loss: 167108.4688 - val_accuracy: 0.0040\n",
      "Epoch 5/40\n",
      "2/2 [==============================] - 1s 1s/step - loss: 83302.6953 - accuracy: 0.5000 - val_loss: 942.2748 - val_accuracy: 0.9988\n",
      "Epoch 6/40\n",
      "2/2 [==============================] - 1s 999ms/step - loss: 376746.3438 - accuracy: 0.5000 - val_loss: 1031975.5625 - val_accuracy: 0.0017\n",
      "Epoch 7/40\n",
      "2/2 [==============================] - 1s 971ms/step - loss: 519462.5000 - accuracy: 0.5000 - val_loss: 492536.5625 - val_accuracy: 0.0022\n",
      "Epoch 8/40\n",
      "2/2 [==============================] - 1s 969ms/step - loss: 266260.0938 - accuracy: 0.5000 - val_loss: 546.3922 - val_accuracy: 0.9988\n",
      "Epoch 9/40\n",
      "2/2 [==============================] - 1s 975ms/step - loss: 226349.7969 - accuracy: 0.5000 - val_loss: 403099.1875 - val_accuracy: 0.0028\n",
      "Epoch 10/40\n",
      "2/2 [==============================] - 1s 988ms/step - loss: 186562.6875 - accuracy: 0.5000 - val_loss: 846.8994 - val_accuracy: 0.9988\n",
      "Epoch 11/40\n",
      "2/2 [==============================] - 1s 976ms/step - loss: 366595.9062 - accuracy: 0.5000 - val_loss: 711.1139 - val_accuracy: 0.9988\n",
      "Epoch 12/40\n",
      "2/2 [==============================] - 1s 1s/step - loss: 282058.3125 - accuracy: 0.5000 - val_loss: 645801.0000 - val_accuracy: 0.0018\n",
      "Epoch 13/40\n",
      "2/2 [==============================] - 1s 1s/step - loss: 333597.9062 - accuracy: 0.5000 - val_loss: 718590.8750 - val_accuracy: 0.0015\n",
      "Epoch 14/40\n",
      "2/2 [==============================] - 1s 988ms/step - loss: 347685.4062 - accuracy: 0.5000 - val_loss: 65.6643 - val_accuracy: 0.9988\n",
      "Epoch 15/40\n",
      "2/2 [==============================] - 1s 976ms/step - loss: 32281.8848 - accuracy: 0.5000 - val_loss: 171.8034 - val_accuracy: 0.9988\n",
      "Epoch 16/40\n",
      "2/2 [==============================] - 1s 970ms/step - loss: 71786.2422 - accuracy: 0.4855 - val_loss: 66.7038 - val_accuracy: 0.9988\n",
      "Epoch 17/40\n",
      "2/2 [==============================] - 1s 1s/step - loss: 26634.2207 - accuracy: 0.5000 - val_loss: 119730.0547 - val_accuracy: 0.0022\n",
      "Epoch 18/40\n",
      "2/2 [==============================] - 1s 1s/step - loss: 60552.5273 - accuracy: 0.5000 - val_loss: 65397.6641 - val_accuracy: 0.0022\n",
      "Epoch 19/40\n",
      "2/2 [==============================] - 1s 1s/step - loss: 31084.1621 - accuracy: 0.5000 - val_loss: 132.2620 - val_accuracy: 0.9988\n",
      "Epoch 20/40\n",
      "2/2 [==============================] - 1s 1s/step - loss: 54033.9258 - accuracy: 0.5000 - val_loss: 57818.1797 - val_accuracy: 0.0022\n",
      "Epoch 21/40\n",
      "2/2 [==============================] - 1s 1s/step - loss: 28838.5469 - accuracy: 0.5000 - val_loss: 15.6875 - val_accuracy: 0.9957\n",
      "Epoch 22/40\n",
      "2/2 [==============================] - 1s 977ms/step - loss: 7078.7129 - accuracy: 0.4855 - val_loss: 47.3988 - val_accuracy: 0.9970\n",
      "Epoch 23/40\n",
      "2/2 [==============================] - 1s 979ms/step - loss: 19112.2852 - accuracy: 0.5000 - val_loss: 57527.2617 - val_accuracy: 0.0022\n",
      "Epoch 24/40\n",
      "2/2 [==============================] - 1s 975ms/step - loss: 28469.5059 - accuracy: 0.5000 - val_loss: 42.3747 - val_accuracy: 0.9961\n",
      "Epoch 25/40\n",
      "2/2 [==============================] - 1s 969ms/step - loss: 17415.1426 - accuracy: 0.5000 - val_loss: 50177.0195 - val_accuracy: 0.0022\n",
      "Epoch 26/40\n",
      "2/2 [==============================] - 1s 1s/step - loss: 25479.9336 - accuracy: 0.5000 - val_loss: 6704.8662 - val_accuracy: 0.0022\n",
      "Epoch 27/40\n",
      "2/2 [==============================] - 1s 1s/step - loss: 5999.0308 - accuracy: 0.5000 - val_loss: 113.8560 - val_accuracy: 0.9973\n",
      "Epoch 28/40\n",
      "2/2 [==============================] - 1s 984ms/step - loss: 44060.4922 - accuracy: 0.5000 - val_loss: 136435.7500 - val_accuracy: 0.0021\n",
      "Epoch 29/40\n",
      "2/2 [==============================] - 1s 993ms/step - loss: 68828.2031 - accuracy: 0.5000 - val_loss: 109520.6875 - val_accuracy: 0.0021\n",
      "Epoch 30/40\n",
      "2/2 [==============================] - 1s 971ms/step - loss: 53525.2695 - accuracy: 0.4710 - val_loss: 31345.0352 - val_accuracy: 0.0022\n",
      "Epoch 31/40\n",
      "2/2 [==============================] - 1s 979ms/step - loss: 14861.7812 - accuracy: 0.5000 - val_loss: 33658.4414 - val_accuracy: 0.0022\n",
      "Epoch 32/40\n",
      "2/2 [==============================] - 1s 975ms/step - loss: 16016.9346 - accuracy: 0.5000 - val_loss: 21.5880 - val_accuracy: 0.9956\n",
      "Epoch 33/40\n",
      "2/2 [==============================] - 1s 977ms/step - loss: 10587.2676 - accuracy: 0.5145 - val_loss: 51436.0430 - val_accuracy: 0.0022\n",
      "Epoch 34/40\n",
      "2/2 [==============================] - 1s 1s/step - loss: 27248.0234 - accuracy: 0.4710 - val_loss: 16153.1201 - val_accuracy: 0.0023\n",
      "Epoch 35/40\n",
      "2/2 [==============================] - 1s 1s/step - loss: 7965.2700 - accuracy: 0.4710 - val_loss: 32475.7207 - val_accuracy: 0.0023\n",
      "Epoch 36/40\n",
      "2/2 [==============================] - 1s 1s/step - loss: 15364.9238 - accuracy: 0.5000 - val_loss: 86.7418 - val_accuracy: 0.9973\n",
      "Epoch 37/40\n",
      "2/2 [==============================] - 1s 1s/step - loss: 36453.2188 - accuracy: 0.5000 - val_loss: 37.5446 - val_accuracy: 0.9954\n",
      "Epoch 38/40\n",
      "2/2 [==============================] - 1s 1s/step - loss: 16763.4844 - accuracy: 0.4855 - val_loss: 82744.9297 - val_accuracy: 0.0022\n",
      "Epoch 39/40\n",
      "2/2 [==============================] - 1s 1s/step - loss: 41085.5508 - accuracy: 0.5000 - val_loss: 10592.9727 - val_accuracy: 0.0023\n",
      "Epoch 40/40\n",
      "2/2 [==============================] - 1s 993ms/step - loss: 5716.8271 - accuracy: 0.5290 - val_loss: 132.0220 - val_accuracy: 0.9988\n"
     ]
    }
   ],
   "source": [
    "model.compile(loss='binary_crossentropy',optimizer=\"adam\",metrics=[\"accuracy\"])\n",
    "history = model.fit(x_RUS,y_RUS, batch_size=128, epochs=40, verbose=1, validation_data=(x_test,y_test))"
   ]
  },
  {
   "cell_type": "code",
   "execution_count": 48,
   "id": "2b6f16df",
   "metadata": {},
   "outputs": [
    {
     "name": "stdout",
     "output_type": "stream",
     "text": [
      "973/973 [==============================] - 3s 3ms/step - loss: 132.0220 - accuracy: 0.9988\n",
      "Accuracy: 99.88\n"
     ]
    }
   ],
   "source": [
    "_, accuracy=model.evaluate(x_test, y_test)\n",
    "print('Accuracy: %.2f' % (accuracy*100))"
   ]
  },
  {
   "cell_type": "code",
   "execution_count": null,
   "id": "9602c4d1",
   "metadata": {},
   "outputs": [],
   "source": []
  }
 ],
 "metadata": {
  "kernelspec": {
   "display_name": "Python 3 (ipykernel)",
   "language": "python",
   "name": "python3"
  },
  "language_info": {
   "codemirror_mode": {
    "name": "ipython",
    "version": 3
   },
   "file_extension": ".py",
   "mimetype": "text/x-python",
   "name": "python",
   "nbconvert_exporter": "python",
   "pygments_lexer": "ipython3",
   "version": "3.9.12"
  }
 },
 "nbformat": 4,
 "nbformat_minor": 5
}
